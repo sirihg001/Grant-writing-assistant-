{
  "nbformat": 4,
  "nbformat_minor": 0,
  "metadata": {
    "colab": {
      "provenance": []
    },
    "kernelspec": {
      "name": "python3",
      "display_name": "Python 3"
    },
    "language_info": {
      "name": "python"
    }
  },
  "cells": [
    {
      "cell_type": "markdown",
      "source": [
        "# **GRANT WRITING ASSISTANT**\n"
      ],
      "metadata": {
        "id": "CWrRzI4oHwWj"
      }
    },
    {
      "cell_type": "markdown",
      "source": [
        "##NIH DATA RETRIEVAL\n"
      ],
      "metadata": {
        "id": "wGDea-73H9eR"
      }
    },
    {
      "cell_type": "code",
      "execution_count": 1,
      "metadata": {
        "id": "yGEJCWyBCKp-"
      },
      "outputs": [],
      "source": [
        "import requests\n",
        "from datetime import datetime, timedelta\n",
        "\n",
        "def fetch_nih_funding_data(keyword, limit):\n",
        "    url = \"https://api.reporter.nih.gov/v2/projects/search\"\n",
        "\n",
        "    headers = {\"Content-Type\": \"application/json\"}\n",
        "    params = {\n",
        "        \"criteria\": {\n",
        "        \"advanced_text_search\": {\n",
        "            \"operator\": \"and\",\n",
        "            \"search_field\": \"projecttitle,projectterms,projectabstracts\",\n",
        "            \"search_text\": keyword\n",
        "            } },\n",
        "        \"limit\" : limit\n",
        "      }\n",
        "\n",
        "    try:\n",
        "        response = requests.post(url, headers=headers, json=params)\n",
        "        response.raise_for_status()\n",
        "        data = response.json()\n",
        "        return data\n",
        "    except requests.RequestException as e:\n",
        "        print(f\"Error fetching NIH data: {e}\")\n",
        "        return None\n"
      ]
    },
    {
      "cell_type": "markdown",
      "source": [
        "##NIH DATA TO DRIVE"
      ],
      "metadata": {
        "id": "eSwg8L6wIMCQ"
      }
    },
    {
      "cell_type": "code",
      "source": [
        "from google.colab import drive\n",
        "import pandas as pd\n",
        "\n",
        "# Step 1: Mount Google Drive\n",
        "drive.mount('/content/drive')\n",
        "\n",
        "# Prompt the user for a keyword to search\n",
        "keyword = input(\"Enter the keyword for NIH funding search: \")\n",
        "limit = input(\"Enter the limit for NIH funding searches: \")\n",
        "\n",
        "# Convert the limit to an integer\n",
        "try:\n",
        "    limit = int(limit)\n",
        "except ValueError:\n",
        "    print(\"Invalid limit value. Please enter a numeric value.\")\n",
        "    limit = 10  # Default limit\n",
        "\n",
        "# Example usage: Fetch NIH funding data\n",
        "nih_data_debug = fetch_nih_funding_data(keyword, limit)\n",
        "\n",
        "# Collecting project data\n",
        "project_data = []\n",
        "\n",
        "if nih_data_debug and 'results' in nih_data_debug:\n",
        "    for project in nih_data_debug['results']:\n",
        "        # Collect each project's data in a dictionary\n",
        "        project_info = {\n",
        "            \"Project Title\": project.get(\"project_title\", \"No title provided\"),\n",
        "            \"Abstract\": project.get(\"abstract_text\", \"No abstract provided\"),\n",
        "            \"Organization\": project.get(\"organization\", {}).get(\"org_name\", \"No organization\"),\n",
        "            \"Award Amount\": project.get(\"award_amount\", \"Not specified\"),\n",
        "            \"Project Start Date\": project.get(\"project_start_date\", \"Not specified\")\n",
        "\n",
        "        }\n",
        "        # Append to list\n",
        "        project_data.append(project_info)\n",
        "\n",
        "    # Step 2: Create DataFrame and save to Google Drive\n",
        "    file_name = f\"/content/drive/MyDrive/nih_funding_data_{keyword}.csv\"\n",
        "    df = pd.DataFrame(project_data)\n",
        "\n",
        "    # Save to CSV\n",
        "    df.to_csv(file_name, index=False)\n",
        "    print(f\"Data saved to Google Drive at {file_name}\")\n",
        "else:\n",
        "    print(\"No funding data returned or invalid response structure.\")\n"
      ],
      "metadata": {
        "colab": {
          "base_uri": "https://localhost:8080/"
        },
        "id": "W9MKWbkMFU2v",
        "outputId": "a52ad28d-29cb-4f11-dd22-ce6470644b34"
      },
      "execution_count": 2,
      "outputs": [
        {
          "output_type": "stream",
          "name": "stdout",
          "text": [
            "Mounted at /content/drive\n",
            "Enter the keyword for NIH funding search: education\n",
            "Enter the limit for NIH funding searches: 20\n",
            "Data saved to Google Drive at /content/drive/MyDrive/nih_funding_data_education.csv\n"
          ]
        }
      ]
    },
    {
      "cell_type": "code",
      "source": [
        "from google.colab import drive\n",
        "import pandas as pd\n",
        "import requests\n",
        "from datetime import datetime, timedelta\n",
        "\n",
        "# Step 1: Mount Google Drive\n",
        "drive.mount('/content/drive')\n",
        "\n",
        "# Function to fetch NSF funding data\n",
        "def fetch_nsf_funding_data(keyword, limit=10):\n",
        "    url = \"https://api.nsf.gov/services/v1/awards.json\"\n",
        "\n",
        "    # Calculate the date range for the past year\n",
        "    end_date = datetime.now()\n",
        "    start_date = end_date - timedelta(days=365)\n",
        "\n",
        "    # Format the dates (mm/dd/yyyy)\n",
        "    start_date_str = start_date.strftime('%m/%d/%Y')\n",
        "    end_date_str = end_date.strftime('%m/%d/%Y')\n",
        "\n",
        "    params = {\n",
        "        \"keyword\": keyword,\n",
        "\n",
        "        \"dateStart\": start_date_str,\n",
        "        \"dateEnd\": end_date_str,\n",
        "        \"rpp\": limit,\n",
        "        \"offset\": 1,\n",
        "        \"printFields\": \"id,awardeeName,title,date,fundsObligatedAmt,piFirstName,piLastName\"\n",
        "    }\n",
        "\n",
        "    try:\n",
        "        response = requests.get(url, params=params)\n",
        "        response.raise_for_status()\n",
        "        return response.json()\n",
        "    except requests.RequestException as e:\n",
        "        print(f\"Error fetching NSF data: {e}\")\n",
        "        return None\n",
        "\n",
        "# Prompt the user for a keyword and limit\n",
        "keyword = input(\"Enter the keyword for NSF funding search: \")\n",
        "limit = input(\"Enter the limit for NSF funding searches: \")\n",
        "\n",
        "# Convert the limit to an integer\n",
        "try:\n",
        "    limit = int(limit)\n",
        "except ValueError:\n",
        "    print(\"Invalid limit value. Defaulting to 10.\")\n",
        "    limit = 10\n",
        "\n",
        "# Fetch NSF funding data\n",
        "nsf_data = fetch_nsf_funding_data(keyword, limit)\n",
        "\n",
        "# Step 2: Collect project data and save to Google Drive\n",
        "project_data = []\n",
        "\n",
        "if nsf_data and \"response\" in nsf_data:\n",
        "    for award in nsf_data[\"response\"].get(\"award\", []):\n",
        "        # Collect each project's data in a dictionary\n",
        "        project_info = {\n",
        "            \"Project Title\": project.get(\"title\", \"No title provided\"),\n",
        "            \"Abstract\": project.get(\"abstractText\", \"No abstract provided\"),\n",
        "            \"Organization\": project.get(\"awardeeName\", {}).get(\"org_name\", \"No organization\"),\n",
        "            \"Award Amount\": project.get(\"fundsObligatedAmt\", \"Not specified\"),\n",
        "            \"Project Start Date\": project.get(\"startDate\", \"Not specified\"),\n",
        "        }\n",
        "        project_data.append(project_info)\n",
        "\n",
        "    # Create a DataFrame and save it to a CSV file in Google Drive\n",
        "    file_name = f\"/content/drive/MyDrive/nsf_funding_data_{keyword}.csv\"\n",
        "    df = pd.DataFrame(project_data)\n",
        "\n",
        "    # Save the DataFrame as a CSV file\n",
        "    df.to_csv(file_name, index=False)\n",
        "    print(f\"Data saved to Google Drive at {file_name}\")\n",
        "else:\n",
        "    print(\"No funding data returned or invalid response structure.\")\n"
      ],
      "metadata": {
        "colab": {
          "base_uri": "https://localhost:8080/"
        },
        "id": "GLdB_Ub5G4Vb",
        "outputId": "d3b04df4-8204-43ef-dd2c-fb93db85fb05"
      },
      "execution_count": 3,
      "outputs": [
        {
          "output_type": "stream",
          "name": "stdout",
          "text": [
            "Drive already mounted at /content/drive; to attempt to forcibly remount, call drive.mount(\"/content/drive\", force_remount=True).\n",
            "Enter the keyword for NSF funding search: education\n",
            "Enter the limit for NSF funding searches: 20\n",
            "Data saved to Google Drive at /content/drive/MyDrive/nsf_funding_data_education.csv\n"
          ]
        }
      ]
    },
    {
      "cell_type": "markdown",
      "source": [],
      "metadata": {
        "id": "VxHx_CaBHuhk"
      }
    },
    {
      "cell_type": "code",
      "source": [],
      "metadata": {
        "id": "pz5N86f6FmeS"
      },
      "execution_count": null,
      "outputs": []
    }
  ]
}